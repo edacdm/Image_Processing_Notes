{
 "cells": [
  {
   "cell_type": "code",
   "execution_count": 3,
   "id": "ce2f9793-5653-473a-b409-247dc3efd380",
   "metadata": {},
   "outputs": [],
   "source": [
    "import tensorflow as tf\n",
    "import tensorflow_hub as hub\n",
    "import numpy as np\n",
    "from PIL import Image"
   ]
  },
  {
   "cell_type": "code",
   "execution_count": 43,
   "id": "bdc0b47f-b0a3-4054-bee3-3aa0fe7b3ecb",
   "metadata": {},
   "outputs": [],
   "source": [
    "def load_img(image_path):\n",
    "    img = tf.io.read_file(image_path)\n",
    "    img = tf.image.decode_image(img, channels=3)\n",
    "    img = tf.image.convert_image_dtype(img, tf.float32)\n",
    "    img = img[tf.newaxis,:]\n",
    "    return img\n",
    "\n",
    "model = hub.load('https://tfhub.dev/google/magenta/arbitrary-image-stylization-v1-256/2')\n",
    "\n",
    "img_input = load_img(\"galata.jpg\")\n",
    "img_style = load_img(\"cicek.jpg\")\n",
    "\n",
    "my_output_img = model(img_input, img_style)[0]\n",
    "my_output_img = tf.keras.preprocessing.image.array_to_img(my_output_img[0])\n",
    "my_output_img.save(\"./my_galataa.png\")"
   ]
  },
  {
   "cell_type": "code",
   "execution_count": null,
   "id": "5c9b42b2-4d33-4a20-96fb-7c5e9260ab01",
   "metadata": {},
   "outputs": [],
   "source": []
  }
 ],
 "metadata": {
  "kernelspec": {
   "display_name": "env_ybs",
   "language": "python",
   "name": "env_ybs"
  },
  "language_info": {
   "codemirror_mode": {
    "name": "ipython",
    "version": 3
   },
   "file_extension": ".py",
   "mimetype": "text/x-python",
   "name": "python",
   "nbconvert_exporter": "python",
   "pygments_lexer": "ipython3",
   "version": "3.10.10"
  }
 },
 "nbformat": 4,
 "nbformat_minor": 5
}
