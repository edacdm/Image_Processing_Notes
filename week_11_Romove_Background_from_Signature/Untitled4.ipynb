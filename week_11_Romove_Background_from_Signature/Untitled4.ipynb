{
 "cells": [
  {
   "cell_type": "code",
   "execution_count": 11,
   "id": "a9e69606-74e1-4573-ba94-c5a2065f52f2",
   "metadata": {},
   "outputs": [],
   "source": [
    "import numpy as np\n",
    "from PIL import Image"
   ]
  },
  {
   "cell_type": "code",
   "execution_count": null,
   "id": "55def043-8616-4c9c-9cc8-a2e326749951",
   "metadata": {},
   "outputs": [],
   "source": [
    "y_image = Image.open(\"./add your own signature in the form of a photo.jpg\").convert('RGB')\n",
    "\n",
    "my_img_normalize = np.array (my_image)/ 255.0\n",
    "\n",
    "my_img_normalize[my_img_normalize>0.5]=1\n",
    "\n",
    "my_img_uint8 = (my_img_normalize*255).astype(np.uint8)\n",
    "\n",
    "my_img_final = Image.fromarray(my_img_uint8)\n",
    "\n",
    "my_img_final.save (\"./my_modified_signature.png\")"
   ]
  }
 ],
 "metadata": {
  "kernelspec": {
   "display_name": "env_ybs",
   "language": "python",
   "name": "env_ybs"
  },
  "language_info": {
   "codemirror_mode": {
    "name": "ipython",
    "version": 3
   },
   "file_extension": ".py",
   "mimetype": "text/x-python",
   "name": "python",
   "nbconvert_exporter": "python",
   "pygments_lexer": "ipython3",
   "version": "3.10.10"
  }
 },
 "nbformat": 4,
 "nbformat_minor": 5
}
