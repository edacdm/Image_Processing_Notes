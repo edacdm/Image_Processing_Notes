{
 "cells": [
  {
   "cell_type": "code",
   "execution_count": 1,
   "id": "0fa90fe8-4fea-4e50-8ab2-4563dd78c744",
   "metadata": {},
   "outputs": [],
   "source": [
    "import cv2\n",
    "import numpy as np"
   ]
  },
  {
   "cell_type": "code",
   "execution_count": 3,
   "id": "7c386eaf-e3b0-407b-a917-8968dd5c07dc",
   "metadata": {},
   "outputs": [
    {
     "data": {
      "text/plain": [
       "(161, 312, 3)"
      ]
     },
     "execution_count": 3,
     "metadata": {},
     "output_type": "execute_result"
    }
   ],
   "source": [
    "my_img = cv2.imread(\"./masa.jpg\",1)\n",
    "my_img.shape"
   ]
  },
  {
   "cell_type": "code",
   "execution_count": 5,
   "id": "7d6bbe8e-7133-4424-983c-ef9b7f3ea5be",
   "metadata": {},
   "outputs": [],
   "source": [
    "cv2.imshow(\"RGP image \",my_img )\n",
    "cv2.waitKey(0)\n",
    "cv2.destroyAllWindows()"
   ]
  },
  {
   "cell_type": "code",
   "execution_count": 7,
   "id": "f9ddcc8c-d723-47a8-b2d0-84c633e728e3",
   "metadata": {},
   "outputs": [],
   "source": [
    "vertical_img = cv2.flip(my_img,0) \n",
    "horizontal_img =cv2.flip(my_img,1)\n",
    "both_img =cv2.flip(my_img, -1)"
   ]
  },
  {
   "cell_type": "code",
   "execution_count": 9,
   "id": "892f7851-c7fe-4be1-8a1b-c8f916ba9d33",
   "metadata": {},
   "outputs": [],
   "source": [
    "cv2.imshow(\"oringal image \", my_img)\n",
    "cv2.imshow(\"vertical image \", vertical_img)\n",
    "cv2.imshow(\"horizontal image \", horizontal_img)\n",
    "cv2.imshow(\"vertical and horizontal image \", both_img)\n",
    "cv2.waitKey(0)\n",
    "cv2.destroyAllWindows()"
   ]
  },
  {
   "cell_type": "code",
   "execution_count": 11,
   "id": "f692429a-e09e-4a2c-ae9f-8b9b30f3a11f",
   "metadata": {},
   "outputs": [
    {
     "data": {
      "text/plain": [
       "numpy.ndarray"
      ]
     },
     "execution_count": 11,
     "metadata": {},
     "output_type": "execute_result"
    }
   ],
   "source": [
    "type(my_img)"
   ]
  },
  {
   "cell_type": "code",
   "execution_count": 21,
   "id": "7b2b495d-0694-4fb0-bbdb-5b9a5bfaba80",
   "metadata": {},
   "outputs": [],
   "source": [
    "new_vertical_img = my_img [::-1,: ,: ]\n",
    "new_horizontal_img =my_img [:,::-1,:]\n",
    "new_both_img = my_img [::-1,:-1,:]"
   ]
  },
  {
   "cell_type": "code",
   "execution_count": 25,
   "id": "05856972-e47d-40df-ae0e-c5e50590752c",
   "metadata": {},
   "outputs": [],
   "source": [
    "cv2.imshow(\"oringal image \", my_img)\n",
    "cv2.imshow(\"vertical image \", vertical_img)\n",
    "cv2.imshow(\"horizontal image \", horizontal_img)\n",
    "cv2.imshow(\"vertical and horizontal image \", both_img)\n",
    "cv2.waitKey(0)\n",
    "cv2.destroyAllWindows()"
   ]
  },
  {
   "cell_type": "code",
   "execution_count": 31,
   "id": "f26c1957-b614-4bee-91b8-072348621973",
   "metadata": {},
   "outputs": [
    {
     "data": {
      "text/plain": [
       "(161, 312, 3)"
      ]
     },
     "execution_count": 31,
     "metadata": {},
     "output_type": "execute_result"
    }
   ],
   "source": [
    "my_img.shape"
   ]
  },
  {
   "cell_type": "code",
   "execution_count": 40,
   "id": "8850fb51-bb42-4cce-a2b7-3a57e55bc8a6",
   "metadata": {},
   "outputs": [],
   "source": [
    "my_resized_img=cv2.resize(my_img,(644,624),cv2.INTER_LANCZOS4)\n",
    "\n",
    "cv2.imshow(\"oringal image \", my_img)\n",
    "cv2.imshow(\"Resized Image \", my_resized_img)\n",
    "cv2.waitKey(0)\n",
    "cv2.destroyAllWindows()"
   ]
  },
  {
   "cell_type": "code",
   "execution_count": null,
   "id": "e579ec49-4c14-4a52-8f3f-718a311deeb1",
   "metadata": {},
   "outputs": [],
   "source": []
  }
 ],
 "metadata": {
  "kernelspec": {
   "display_name": "env_ybs",
   "language": "python",
   "name": "env_ybs"
  },
  "language_info": {
   "codemirror_mode": {
    "name": "ipython",
    "version": 3
   },
   "file_extension": ".py",
   "mimetype": "text/x-python",
   "name": "python",
   "nbconvert_exporter": "python",
   "pygments_lexer": "ipython3",
   "version": "3.10.10"
  }
 },
 "nbformat": 4,
 "nbformat_minor": 5
}
